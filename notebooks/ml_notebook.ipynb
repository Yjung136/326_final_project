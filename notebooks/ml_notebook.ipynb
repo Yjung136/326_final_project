{
 "cells": [
  {
   "cell_type": "markdown",
   "metadata": {},
   "source": [
    "# Machine Learning Notebook"
   ]
  },
  {
   "cell_type": "code",
   "execution_count": 1,
   "metadata": {},
   "outputs": [],
   "source": [
    "import pandas as pd"
   ]
  },
  {
   "cell_type": "code",
   "execution_count": 2,
   "metadata": {},
   "outputs": [],
   "source": [
    "df = pd.read_pickle('../data/df_cleaned.pkl')"
   ]
  },
  {
   "cell_type": "code",
   "execution_count": 3,
   "metadata": {},
   "outputs": [
    {
     "name": "stdout",
     "output_type": "stream",
     "text": [
      "<class 'pandas.core.frame.DataFrame'>\n",
      "RangeIndex: 12330 entries, 0 to 12329\n",
      "Data columns (total 18 columns):\n",
      " #   Column                   Non-Null Count  Dtype   \n",
      "---  ------                   --------------  -----   \n",
      " 0   administrative           12330 non-null  int32   \n",
      " 1   administrative_duration  12330 non-null  float64 \n",
      " 2   informational            12330 non-null  int32   \n",
      " 3   informational_duration   12330 non-null  float64 \n",
      " 4   productrelated           12330 non-null  int32   \n",
      " 5   productrelated_duration  12330 non-null  float64 \n",
      " 6   bouncerates              12330 non-null  float64 \n",
      " 7   exitrates                12330 non-null  float64 \n",
      " 8   pagevalues               12330 non-null  float64 \n",
      " 9   specialday               12330 non-null  float64 \n",
      " 10  month                    12330 non-null  category\n",
      " 11  operatingsystems         12330 non-null  category\n",
      " 12  browser                  12330 non-null  category\n",
      " 13  region                   12330 non-null  category\n",
      " 14  traffictype              12330 non-null  category\n",
      " 15  visitortype              12330 non-null  category\n",
      " 16  weekend                  12330 non-null  category\n",
      " 17  revenue                  12330 non-null  category\n",
      "dtypes: category(8), float64(7), int32(3)\n",
      "memory usage: 915.8 KB\n"
     ]
    }
   ],
   "source": [
    "df.info()"
   ]
  },
  {
   "cell_type": "markdown",
   "metadata": {},
   "source": [
    "**First 5 Features represent the number of different types of pages visited by the visitor in that session and total time spent in each of these page categories.**"
   ]
  },
  {
   "cell_type": "code",
   "execution_count": 4,
   "metadata": {},
   "outputs": [
    {
     "data": {
      "text/plain": [
       "False    10422\n",
       "True      1908\n",
       "Name: revenue, dtype: int64"
      ]
     },
     "execution_count": 4,
     "metadata": {},
     "output_type": "execute_result"
    }
   ],
   "source": [
    "df.revenue.value_counts()"
   ]
  },
  {
   "cell_type": "markdown",
   "metadata": {},
   "source": [
    "We note a slight class inbalance of 1:5 true vs false. "
   ]
  },
  {
   "cell_type": "markdown",
   "metadata": {},
   "source": [
    "### Data preparation for ML input\n",
    "* One-Hot Encode Categorical Values\n",
    "* Normlize Numeric Values\n",
    "* Consider Target Class Imbalance effect on model performance. "
   ]
  },
  {
   "cell_type": "markdown",
   "metadata": {},
   "source": [
    "* Pipelines Tutorial: https://medium.com/vickdata/a-simple-guide-to-scikit-learn-pipelines-4ac0d974bdcf"
   ]
  },
  {
   "cell_type": "code",
   "execution_count": 5,
   "metadata": {},
   "outputs": [],
   "source": [
    "from sklearn.model_selection import train_test_split\n",
    "\n",
    "from sklearn.pipeline import Pipeline\n",
    "from sklearn.impute import SimpleImputer\n",
    "from sklearn.preprocessing import StandardScaler, OneHotEncoder\n",
    "\n",
    "from sklearn.compose import ColumnTransformer\n",
    "\n",
    "from sklearn.ensemble import RandomForestClassifier"
   ]
  },
  {
   "cell_type": "code",
   "execution_count": 6,
   "metadata": {},
   "outputs": [],
   "source": [
    "# encode target variable\n",
    "df.revenue = df.revenue.cat.codes"
   ]
  },
  {
   "cell_type": "code",
   "execution_count": 7,
   "metadata": {},
   "outputs": [],
   "source": [
    "# define input and target variables\n",
    "X = df.drop(columns=['revenue'])\n",
    "y = df['revenue']\n",
    "\n",
    "# split input/target into train/test splits\n",
    "X_train, X_test, y_train, y_test = train_test_split(X, y, test_size=0.3)"
   ]
  },
  {
   "cell_type": "code",
   "execution_count": 8,
   "metadata": {},
   "outputs": [
    {
     "name": "stdout",
     "output_type": "stream",
     "text": [
      "(12330, 17)\n",
      "(12330,)\n"
     ]
    }
   ],
   "source": [
    "# Verify shape of input and target\n",
    "print(X.shape)\n",
    "print(y.shape)"
   ]
  },
  {
   "cell_type": "code",
   "execution_count": 9,
   "metadata": {},
   "outputs": [],
   "source": [
    "# create numeric pre-processing step\n",
    "numeric_transformer = Pipeline(steps=[\n",
    "                                ('scaler', StandardScaler())\n",
    "                                    ])\n",
    "    \n",
    "# create One Hot Encoder step for categorical \n",
    "categorical_transformer = Pipeline(steps=[\n",
    "                                ('onehot', OneHotEncoder(handle_unknown='ignore'))\n",
    "                                        ])"
   ]
  },
  {
   "cell_type": "code",
   "execution_count": 10,
   "metadata": {},
   "outputs": [
    {
     "data": {
      "text/plain": [
       "Index(['month', 'operatingsystems', 'browser', 'region', 'traffictype',\n",
       "       'visitortype', 'weekend'],\n",
       "      dtype='object')"
      ]
     },
     "execution_count": 10,
     "metadata": {},
     "output_type": "execute_result"
    }
   ],
   "source": [
    "df.select_dtypes(include=['category']).columns"
   ]
  },
  {
   "cell_type": "code",
   "execution_count": 11,
   "metadata": {},
   "outputs": [],
   "source": [
    "# select all numeric features except for target column\n",
    "numeric_features = df.select_dtypes(include=['number']).drop(columns='revenue').columns\n",
    "\n",
    "# Select all categorical features\n",
    "categorical_features = df.select_dtypes(include=['category']).columns\n",
    "\n",
    "# create pre-processor pipeline containing numeric and categorical transformers\n",
    "preprocessor = ColumnTransformer(\n",
    "    transformers=[\n",
    "        ('num', numeric_transformer, numeric_features),\n",
    "        ('cat', categorical_transformer, categorical_features)\n",
    "                ])"
   ]
  },
  {
   "cell_type": "code",
   "execution_count": 12,
   "metadata": {},
   "outputs": [],
   "source": [
    "# instantiate model with pipeline steps\n",
    "rf = Pipeline(steps=[\n",
    "                    ('preprocessor', preprocessor),\n",
    "                    ('classifier', RandomForestClassifier())\n",
    "                    ])\n",
    "\n",
    "# Fit model with pipeline steps to training data\n",
    "rf.fit(X_train, y_train);\n",
    "\n",
    "# Make predictions\n",
    "y_pred = rf.predict(X_test)"
   ]
  },
  {
   "cell_type": "code",
   "execution_count": 13,
   "metadata": {},
   "outputs": [],
   "source": [
    "from sklearn.metrics import confusion_matrix, ConfusionMatrixDisplay, classification_report"
   ]
  },
  {
   "cell_type": "code",
   "execution_count": 14,
   "metadata": {},
   "outputs": [
    {
     "data": {
      "image/png": "[encoded data removed]",
      "text/plain": [
       "<Figure size 432x288 with 2 Axes>"
      ]
     },
     "metadata": {
      "needs_background": "light"
     },
     "output_type": "display_data"
    }
   ],
   "source": [
    "# Create and plot confusion matrix\n",
    "cm = confusion_matrix(y_test, y_pred, labels=rf.classes_)\n",
    "disp = ConfusionMatrixDisplay(confusion_matrix=cm,\n",
    "                              display_labels=rf.classes_)\n",
    "disp.plot();"
   ]
  },
  {
   "cell_type": "code",
   "execution_count": 15,
   "metadata": {},
   "outputs": [
    {
     "name": "stdout",
     "output_type": "stream",
     "text": [
      "              precision    recall  f1-score   support\n",
      "\n",
      "           0       0.92      0.97      0.94      3133\n",
      "           1       0.76      0.53      0.63       566\n",
      "\n",
      "    accuracy                           0.90      3699\n",
      "   macro avg       0.84      0.75      0.79      3699\n",
      "weighted avg       0.90      0.90      0.90      3699\n",
      "\n"
     ]
    }
   ],
   "source": [
    "# get classification report\n",
    "print(classification_report(y_test, y_pred))"
   ]
  },
  {
   "cell_type": "markdown",
   "metadata": {},
   "source": [
    "As we can see, the imbalanced target class requires some refinement in order to hopefully improve model performance. Scoring of the dominant class, or no revenue is very good due to how many instances it contains - scoring of the minority class, revenue generator, is poor because there are so few instances of it to train the model on. "
   ]
  },
  {
   "cell_type": "markdown",
   "metadata": {},
   "source": [
    "### Class re-balance\n",
    "https://machinelearningmastery.com/what-is-imbalanced-classification/  \n",
    "https://machinelearningmastery.com/tactics-to-combat-imbalanced-classes-in-your-machine-learning-dataset/"
   ]
  },
  {
   "cell_type": "code",
   "execution_count": 16,
   "metadata": {},
   "outputs": [],
   "source": [
    "# Import tool for SMOTE\n",
    "from imblearn.over_sampling import SMOTE"
   ]
  },
  {
   "cell_type": "code",
   "execution_count": 17,
   "metadata": {},
   "outputs": [
    {
     "name": "stdout",
     "output_type": "stream",
     "text": [
      "(12330, 17)\n",
      "(12330,)\n"
     ]
    }
   ],
   "source": [
    "print(X.shape)\n",
    "print(y.shape)"
   ]
  },
  {
   "cell_type": "code",
   "execution_count": 18,
   "metadata": {},
   "outputs": [
    {
     "data": {
      "text/html": [
       "<div>\n",
       "<style scoped>\n",
       "    .dataframe tbody tr th:only-of-type {\n",
       "        vertical-align: middle;\n",
       "    }\n",
       "\n",
       "    .dataframe tbody tr th {\n",
       "        vertical-align: top;\n",
       "    }\n",
       "\n",
       "    .dataframe thead th {\n",
       "        text-align: right;\n",
       "    }\n",
       "</style>\n",
       "<table border=\"1\" class=\"dataframe\">\n",
       "  <thead>\n",
       "    <tr style=\"text-align: right;\">\n",
       "      <th></th>\n",
       "      <th>administrative</th>\n",
       "      <th>administrative_duration</th>\n",
       "      <th>informational</th>\n",
       "      <th>informational_duration</th>\n",
       "      <th>productrelated</th>\n",
       "      <th>productrelated_duration</th>\n",
       "      <th>bouncerates</th>\n",
       "      <th>exitrates</th>\n",
       "      <th>pagevalues</th>\n",
       "      <th>specialday</th>\n",
       "      <th>month</th>\n",
       "      <th>operatingsystems</th>\n",
       "      <th>browser</th>\n",
       "      <th>region</th>\n",
       "      <th>traffictype</th>\n",
       "      <th>visitortype</th>\n",
       "      <th>weekend</th>\n",
       "    </tr>\n",
       "  </thead>\n",
       "  <tbody>\n",
       "    <tr>\n",
       "      <th>11397</th>\n",
       "      <td>0</td>\n",
       "      <td>0.0</td>\n",
       "      <td>0</td>\n",
       "      <td>0.0</td>\n",
       "      <td>6</td>\n",
       "      <td>196.500000</td>\n",
       "      <td>0.000000</td>\n",
       "      <td>0.016667</td>\n",
       "      <td>0.0</td>\n",
       "      <td>0.0</td>\n",
       "      <td>Nov</td>\n",
       "      <td>1</td>\n",
       "      <td>1</td>\n",
       "      <td>7</td>\n",
       "      <td>2</td>\n",
       "      <td>Returning_Visitor</td>\n",
       "      <td>False</td>\n",
       "    </tr>\n",
       "    <tr>\n",
       "      <th>7048</th>\n",
       "      <td>3</td>\n",
       "      <td>63.4</td>\n",
       "      <td>0</td>\n",
       "      <td>0.0</td>\n",
       "      <td>10</td>\n",
       "      <td>70.933333</td>\n",
       "      <td>0.000000</td>\n",
       "      <td>0.016667</td>\n",
       "      <td>0.0</td>\n",
       "      <td>0.0</td>\n",
       "      <td>Sep</td>\n",
       "      <td>2</td>\n",
       "      <td>2</td>\n",
       "      <td>1</td>\n",
       "      <td>5</td>\n",
       "      <td>New_Visitor</td>\n",
       "      <td>False</td>\n",
       "    </tr>\n",
       "    <tr>\n",
       "      <th>8959</th>\n",
       "      <td>0</td>\n",
       "      <td>0.0</td>\n",
       "      <td>0</td>\n",
       "      <td>0.0</td>\n",
       "      <td>8</td>\n",
       "      <td>29.166667</td>\n",
       "      <td>0.000000</td>\n",
       "      <td>0.100000</td>\n",
       "      <td>0.0</td>\n",
       "      <td>0.0</td>\n",
       "      <td>Dec</td>\n",
       "      <td>2</td>\n",
       "      <td>2</td>\n",
       "      <td>3</td>\n",
       "      <td>2</td>\n",
       "      <td>Returning_Visitor</td>\n",
       "      <td>False</td>\n",
       "    </tr>\n",
       "    <tr>\n",
       "      <th>8415</th>\n",
       "      <td>4</td>\n",
       "      <td>32.0</td>\n",
       "      <td>1</td>\n",
       "      <td>43.5</td>\n",
       "      <td>311</td>\n",
       "      <td>12500.353060</td>\n",
       "      <td>0.001388</td>\n",
       "      <td>0.014687</td>\n",
       "      <td>0.0</td>\n",
       "      <td>0.0</td>\n",
       "      <td>Nov</td>\n",
       "      <td>2</td>\n",
       "      <td>2</td>\n",
       "      <td>7</td>\n",
       "      <td>2</td>\n",
       "      <td>Returning_Visitor</td>\n",
       "      <td>False</td>\n",
       "    </tr>\n",
       "    <tr>\n",
       "      <th>5348</th>\n",
       "      <td>0</td>\n",
       "      <td>0.0</td>\n",
       "      <td>0</td>\n",
       "      <td>0.0</td>\n",
       "      <td>24</td>\n",
       "      <td>182.416667</td>\n",
       "      <td>0.000000</td>\n",
       "      <td>0.037500</td>\n",
       "      <td>0.0</td>\n",
       "      <td>0.0</td>\n",
       "      <td>May</td>\n",
       "      <td>2</td>\n",
       "      <td>2</td>\n",
       "      <td>9</td>\n",
       "      <td>2</td>\n",
       "      <td>Returning_Visitor</td>\n",
       "      <td>True</td>\n",
       "    </tr>\n",
       "  </tbody>\n",
       "</table>\n",
       "</div>"
      ],
      "text/plain": [
       "       administrative  administrative_duration  informational  \\\n",
       "11397               0                      0.0              0   \n",
       "7048                3                     63.4              0   \n",
       "8959                0                      0.0              0   \n",
       "8415                4                     32.0              1   \n",
       "5348                0                      0.0              0   \n",
       "\n",
       "       informational_duration  productrelated  productrelated_duration  \\\n",
       "11397                     0.0               6               196.500000   \n",
       "7048                      0.0              10                70.933333   \n",
       "8959                      0.0               8                29.166667   \n",
       "8415                     43.5             311             12500.353060   \n",
       "5348                      0.0              24               182.416667   \n",
       "\n",
       "       bouncerates  exitrates  pagevalues  specialday month operatingsystems  \\\n",
       "11397     0.000000   0.016667         0.0         0.0   Nov                1   \n",
       "7048      0.000000   0.016667         0.0         0.0   Sep                2   \n",
       "8959      0.000000   0.100000         0.0         0.0   Dec                2   \n",
       "8415      0.001388   0.014687         0.0         0.0   Nov                2   \n",
       "5348      0.000000   0.037500         0.0         0.0   May                2   \n",
       "\n",
       "      browser region traffictype        visitortype weekend  \n",
       "11397       1      7           2  Returning_Visitor   False  \n",
       "7048        2      1           5        New_Visitor   False  \n",
       "8959        2      3           2  Returning_Visitor   False  \n",
       "8415        2      7           2  Returning_Visitor   False  \n",
       "5348        2      9           2  Returning_Visitor    True  "
      ]
     },
     "execution_count": 18,
     "metadata": {},
     "output_type": "execute_result"
    }
   ],
   "source": [
    "X.sample(5)"
   ]
  },
  {
   "cell_type": "code",
   "execution_count": 19,
   "metadata": {},
   "outputs": [
    {
     "data": {
      "text/plain": [
       "0    10422\n",
       "1     1908\n",
       "Name: revenue, dtype: int64"
      ]
     },
     "execution_count": 19,
     "metadata": {},
     "output_type": "execute_result"
    }
   ],
   "source": [
    "y.value_counts()"
   ]
  },
  {
   "cell_type": "markdown",
   "metadata": {},
   "source": [
    "note the high level of class imbalance"
   ]
  },
  {
   "cell_type": "code",
   "execution_count": 20,
   "metadata": {},
   "outputs": [],
   "source": [
    "from sklearn.preprocessing import OrdinalEncoder"
   ]
  },
  {
   "cell_type": "code",
   "execution_count": 21,
   "metadata": {},
   "outputs": [],
   "source": [
    "## need to encode categorical features to work with SMOTE\n",
    "\n",
    "# Instantiate categorical encoder\n",
    "enc = OrdinalEncoder()\n",
    "\n",
    "# encode categorical features\n",
    "X_post = enc.fit_transform(X)"
   ]
  },
  {
   "cell_type": "code",
   "execution_count": 34,
   "metadata": {},
   "outputs": [],
   "source": [
    "#instantiate smote tool\n",
    "oversample = SMOTE(random_state=1424, sampling_strategy='not majority')\n",
    "\n",
    "# fit smote to dataset and re-sample\n",
    "X_resample, y_resample = oversample.fit_resample(X_post, y)"
   ]
  },
  {
   "cell_type": "code",
   "execution_count": 30,
   "metadata": {},
   "outputs": [
    {
     "name": "stdout",
     "output_type": "stream",
     "text": [
      "(20844, 17)\n",
      "(20844,)\n"
     ]
    }
   ],
   "source": [
    "# check shape of resampled features\n",
    "print(X_resample.shape)\n",
    "print(y_resample.shape)"
   ]
  },
  {
   "cell_type": "code",
   "execution_count": 35,
   "metadata": {},
   "outputs": [
    {
     "data": {
      "text/plain": [
       "0    10422\n",
       "1    10422\n",
       "Name: revenue, dtype: int64"
      ]
     },
     "execution_count": 35,
     "metadata": {},
     "output_type": "execute_result"
    }
   ],
   "source": [
    "# Verify target class balance change\n",
    "y_resample.value_counts()"
   ]
  },
  {
   "cell_type": "code",
   "execution_count": 36,
   "metadata": {},
   "outputs": [],
   "source": [
    "# split input/target into train/test splits\n",
    "X_train, X_test, y_train, y_test = train_test_split(X_resample, y_resample, test_size=0.3)"
   ]
  },
  {
   "cell_type": "code",
   "execution_count": 37,
   "metadata": {},
   "outputs": [],
   "source": [
    "# instantiate model with pipeline steps\n",
    "rf = RandomForestClassifier(random_state=1424)\n",
    "\n",
    "# Fit model with pipeline steps to training data\n",
    "rf.fit(X_train, y_train);\n",
    "\n",
    "# Make predictions\n",
    "y_pred = rf.predict(X_test)"
   ]
  },
  {
   "cell_type": "code",
   "execution_count": 40,
   "metadata": {},
   "outputs": [
    {
     "data": {
      "image/png": "[encoded data removed]",
      "text/plain": [
       "<Figure size 432x288 with 2 Axes>"
      ]
     },
     "metadata": {
      "needs_background": "light"
     },
     "output_type": "display_data"
    }
   ],
   "source": [
    "# Create and plot confusion matrix\n",
    "cm = confusion_matrix(y_test, y_pred, labels=rf.classes_)\n",
    "disp = ConfusionMatrixDisplay(confusion_matrix=cm,\n",
    "                              display_labels=rf.classes_)\n",
    "disp.plot();"
   ]
  },
  {
   "cell_type": "code",
   "execution_count": 41,
   "metadata": {},
   "outputs": [
    {
     "name": "stdout",
     "output_type": "stream",
     "text": [
      "              precision    recall  f1-score   support\n",
      "\n",
      "           0       0.95      0.94      0.94      3089\n",
      "           1       0.94      0.95      0.94      3165\n",
      "\n",
      "    accuracy                           0.94      6254\n",
      "   macro avg       0.94      0.94      0.94      6254\n",
      "weighted avg       0.94      0.94      0.94      6254\n",
      "\n"
     ]
    }
   ],
   "source": [
    "# get classification report\n",
    "print(classification_report(y_test, y_pred))"
   ]
  }
 ],
 "metadata": {
  "kernelspec": {
   "display_name": "Python 3.9.13 ('ds_core')",
   "language": "python",
   "name": "python3"
  },
  "language_info": {
   "codemirror_mode": {
    "name": "ipython",
    "version": 3
   },
   "file_extension": ".py",
   "mimetype": "text/x-python",
   "name": "python",
   "nbconvert_exporter": "python",
   "pygments_lexer": "ipython3",
   "version": "3.9.13"
  },
  "orig_nbformat": 4,
  "vscode": {
   "interpreter": {
    "hash": "2ea3291a4229870f46f60e13eaa35a1f9d86ee5a4de0dfc751ed6213d3178964"
   }
  }
 },
 "nbformat": 4,
 "nbformat_minor": 2
}
