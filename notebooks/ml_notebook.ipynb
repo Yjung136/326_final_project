{
 "cells": [
  {
   "cell_type": "markdown",
   "metadata": {},
   "source": [
    "# Machine Learning Notebook"
   ]
  },
  {
   "cell_type": "code",
   "execution_count": 42,
   "metadata": {},
   "outputs": [],
   "source": [
    "import pandas as pd\n",
    "\n",
    "import matplotlib.pyplot as plt\n",
    "\n",
    "import os"
   ]
  },
  {
   "cell_type": "code",
   "execution_count": 8,
   "metadata": {},
   "outputs": [
    {
     "data": {
      "text/plain": [
       "'\\\\\\\\ganymede\\\\data_science\\\\ad-frazier\\\\data_science\\\\ggu\\\\summer_22\\\\msba_326\\\\326_final_project\\\\notebooks'"
      ]
     },
     "execution_count": 8,
     "metadata": {},
     "output_type": "execute_result"
    }
   ],
   "source": [
    "os.getcwd()"
   ]
  },
  {
   "cell_type": "code",
   "execution_count": 9,
   "metadata": {},
   "outputs": [],
   "source": [
    "#os.chdir('/home/ad-frazier/data_science/ggu/summer_22/msba_326/326_final_project/')"
   ]
  },
  {
   "cell_type": "code",
   "execution_count": 10,
   "metadata": {},
   "outputs": [],
   "source": [
    "df = pd.read_pickle('../data/df_cleaned.pkl')"
   ]
  },
  {
   "cell_type": "code",
   "execution_count": 11,
   "metadata": {},
   "outputs": [
    {
     "name": "stdout",
     "output_type": "stream",
     "text": [
      "<class 'pandas.core.frame.DataFrame'>\n",
      "RangeIndex: 12330 entries, 0 to 12329\n",
      "Data columns (total 18 columns):\n",
      " #   Column                   Non-Null Count  Dtype   \n",
      "---  ------                   --------------  -----   \n",
      " 0   administrative           12330 non-null  int32   \n",
      " 1   administrative_duration  12330 non-null  float64 \n",
      " 2   informational            12330 non-null  int32   \n",
      " 3   informational_duration   12330 non-null  float64 \n",
      " 4   productrelated           12330 non-null  int32   \n",
      " 5   productrelated_duration  12330 non-null  float64 \n",
      " 6   bouncerates              12330 non-null  float64 \n",
      " 7   exitrates                12330 non-null  float64 \n",
      " 8   pagevalues               12330 non-null  float64 \n",
      " 9   specialday               12330 non-null  float64 \n",
      " 10  month                    12330 non-null  category\n",
      " 11  operatingsystems         12330 non-null  category\n",
      " 12  browser                  12330 non-null  category\n",
      " 13  region                   12330 non-null  category\n",
      " 14  traffictype              12330 non-null  category\n",
      " 15  visitortype              12330 non-null  category\n",
      " 16  weekend                  12330 non-null  category\n",
      " 17  revenue                  12330 non-null  category\n",
      "dtypes: category(8), float64(7), int32(3)\n",
      "memory usage: 915.8 KB\n"
     ]
    }
   ],
   "source": [
    "df.info()"
   ]
  },
  {
   "cell_type": "markdown",
   "metadata": {},
   "source": [
    "**First 5 Features represent the number of different types of pages visited by the visitor in that session and total time spent in each of these page categories.**"
   ]
  },
  {
   "cell_type": "code",
   "execution_count": 12,
   "metadata": {},
   "outputs": [
    {
     "data": {
      "text/plain": [
       "False    10422\n",
       "True      1908\n",
       "Name: revenue, dtype: int64"
      ]
     },
     "execution_count": 12,
     "metadata": {},
     "output_type": "execute_result"
    }
   ],
   "source": [
    "df.revenue.value_counts()"
   ]
  },
  {
   "cell_type": "markdown",
   "metadata": {},
   "source": [
    "We note a slight class inbalance of 1:5 true vs false. "
   ]
  },
  {
   "cell_type": "markdown",
   "metadata": {},
   "source": [
    "### Data preparation for ML input\n",
    "* One-Hot Encode Categorical Values\n",
    "* Normlize Numeric Values\n",
    "* Consider Target Class Imbalance effect on model performance. "
   ]
  },
  {
   "cell_type": "markdown",
   "metadata": {},
   "source": [
    "* Pipelines Tutorial: https://medium.com/vickdata/a-simple-guide-to-scikit-learn-pipelines-4ac0d974bdcf"
   ]
  },
  {
   "cell_type": "code",
   "execution_count": 13,
   "metadata": {},
   "outputs": [],
   "source": [
    "from sklearn.model_selection import train_test_split\n",
    "\n",
    "from sklearn.pipeline import Pipeline\n",
    "from sklearn.preprocessing import StandardScaler, OneHotEncoder\n",
    "\n",
    "from sklearn.compose import ColumnTransformer\n",
    "\n",
    "from sklearn.ensemble import RandomForestClassifier"
   ]
  },
  {
   "cell_type": "code",
   "execution_count": 14,
   "metadata": {},
   "outputs": [],
   "source": [
    "# encode target variable\n",
    "df.revenue = df.revenue.cat.codes"
   ]
  },
  {
   "cell_type": "code",
   "execution_count": 15,
   "metadata": {},
   "outputs": [],
   "source": [
    "# define input and target variables\n",
    "X = df.drop(columns=['revenue'])\n",
    "y = df['revenue']\n",
    "\n",
    "# split input/target into train/test splits\n",
    "X_train, X_test, y_train, y_test = train_test_split(X, y, test_size=0.3)"
   ]
  },
  {
   "cell_type": "code",
   "execution_count": 16,
   "metadata": {},
   "outputs": [
    {
     "name": "stdout",
     "output_type": "stream",
     "text": [
      "(12330, 17)\n",
      "(12330,)\n"
     ]
    }
   ],
   "source": [
    "# Verify shape of input and target\n",
    "print(X.shape)\n",
    "print(y.shape)"
   ]
  },
  {
   "cell_type": "code",
   "execution_count": 17,
   "metadata": {},
   "outputs": [],
   "source": [
    "# create numeric pre-processing step\n",
    "numeric_transformer = Pipeline(steps=[\n",
    "                                ('scaler', StandardScaler())\n",
    "                                    ])\n",
    "    \n",
    "# create One Hot Encoder step for categorical \n",
    "categorical_transformer = Pipeline(steps=[\n",
    "                                ('onehot', OneHotEncoder(handle_unknown='ignore'))\n",
    "                                        ])"
   ]
  },
  {
   "cell_type": "code",
   "execution_count": 18,
   "metadata": {},
   "outputs": [],
   "source": [
    "# select all numeric features except for target column\n",
    "numeric_features = df.select_dtypes(include=['number']).drop(columns='revenue').columns\n",
    "\n",
    "# Select all categorical features\n",
    "categorical_features = df.select_dtypes(include=['category']).columns\n",
    "\n",
    "# create pre-processor pipeline containing numeric and categorical transformers\n",
    "preprocessor = ColumnTransformer(\n",
    "    transformers=[\n",
    "        ('num', numeric_transformer, numeric_features),\n",
    "        ('cat', categorical_transformer, categorical_features)\n",
    "                ])"
   ]
  },
  {
   "cell_type": "markdown",
   "metadata": {},
   "source": [
    "### Run Baseline evaluation with RandomForestClassifier"
   ]
  },
  {
   "cell_type": "code",
   "execution_count": 20,
   "metadata": {},
   "outputs": [],
   "source": [
    "from sklearn.metrics import confusion_matrix, ConfusionMatrixDisplay, classification_report"
   ]
  },
  {
   "cell_type": "code",
   "execution_count": 19,
   "metadata": {},
   "outputs": [],
   "source": [
    "# instantiate model with pipeline steps\n",
    "rf = Pipeline(steps=[\n",
    "                    ('preprocessor', preprocessor),\n",
    "                    ('classifier', RandomForestClassifier())\n",
    "                    ])\n",
    "\n",
    "# Fit model with pipeline steps to training data\n",
    "rf.fit(X_train, y_train);\n",
    "\n",
    "# Make predictions\n",
    "y_pred = rf.predict(X_test)"
   ]
  },
  {
   "cell_type": "code",
   "execution_count": 50,
   "metadata": {},
   "outputs": [
    {
     "data": {
      "image/png": "[encoded data removed]",
      "text/plain": [
       "<Figure size 720x720 with 2 Axes>"
      ]
     },
     "metadata": {
      "needs_background": "light"
     },
     "output_type": "display_data"
    }
   ],
   "source": [
    "# Create and plot confusion matrix\n",
    "cm = confusion_matrix(y_test, y_pred, labels=rf.classes_)\n",
    "\n",
    "\n",
    "disp = ConfusionMatrixDisplay(confusion_matrix=cm,\n",
    "                              display_labels=rf.classes_)\n",
    "disp.plot()\n",
    "\n",
    "fig = disp.ax_.get_figure() \n",
    "fig.set_figwidth(10)\n",
    "fig.set_figheight(10)  "
   ]
  },
  {
   "cell_type": "code",
   "execution_count": 51,
   "metadata": {},
   "outputs": [
    {
     "name": "stdout",
     "output_type": "stream",
     "text": [
      "              precision    recall  f1-score   support\n",
      "\n",
      "           0       0.93      0.95      0.94      3128\n",
      "           1       0.70      0.62      0.66       571\n",
      "\n",
      "    accuracy                           0.90      3699\n",
      "   macro avg       0.82      0.79      0.80      3699\n",
      "weighted avg       0.90      0.90      0.90      3699\n",
      "\n"
     ]
    }
   ],
   "source": [
    "# get classification report\n",
    "print(classification_report(y_test, y_pred))"
   ]
  },
  {
   "cell_type": "markdown",
   "metadata": {},
   "source": [
    "#### Baseline Summary: "
   ]
  },
  {
   "cell_type": "markdown",
   "metadata": {},
   "source": [
    "As we can see, the imbalanced target class requires some refinement in order to hopefully improve model performance. Scoring of the dominant class, no revenue, is very good due to how many instances it contains - scoring of the minority class, revenue generated, is poor because there are so few instances of it to train the model on. \n",
    "  \n",
    "\n",
    "Next, we evaluate the effectivess of class rebalancing using SMOTE. "
   ]
  },
  {
   "cell_type": "markdown",
   "metadata": {},
   "source": [
    "### Class re-balance\n",
    "* https://machinelearningmastery.com/what-is-imbalanced-classification/  \n",
    "* https://machinelearningmastery.com/tactics-to-combat-imbalanced-classes-in-your-machine-learning-dataset/\n",
    "* https://machinelearningmastery.com/smote-oversampling-for-imbalanced-classification/"
   ]
  },
  {
   "cell_type": "code",
   "execution_count": 23,
   "metadata": {},
   "outputs": [
    {
     "name": "stdout",
     "output_type": "stream",
     "text": [
      "(12330, 17)\n",
      "(12330,)\n"
     ]
    }
   ],
   "source": [
    "print(X.shape)\n",
    "print(y.shape)"
   ]
  },
  {
   "cell_type": "code",
   "execution_count": 24,
   "metadata": {},
   "outputs": [
    {
     "data": {
      "text/plain": [
       "0    10422\n",
       "1     1908\n",
       "Name: revenue, dtype: int64"
      ]
     },
     "execution_count": 24,
     "metadata": {},
     "output_type": "execute_result"
    }
   ],
   "source": [
    "# re-confirm class imbalance\n",
    "y.value_counts()"
   ]
  },
  {
   "cell_type": "markdown",
   "metadata": {},
   "source": [
    "**Note the high level of class imbalance - a ratio of about 1:5 1 vs 0 (where 1 indicates revenue generated, and 0 indicates no revenue generated)**"
   ]
  },
  {
   "cell_type": "markdown",
   "metadata": {},
   "source": [
    "Note: previous notebook iteration applied SMOTE to all features (X, y) instead of only training features (X_train, y_train).  \n",
    "This technique was incorrect and can lead to data leakage in the model as well as occurrences of synthetic samples in the test set which can adversely affect model evaluation metrics(introducing incorrect biases)  \n",
    "The code below incorporates SMOTE into the pipeline which correctly  applies this resampling technique only to the training data used to fit the model. The test set data is now, correctly, isolated from any synthetic sampling. "
   ]
  },
  {
   "cell_type": "code",
   "execution_count": 25,
   "metadata": {},
   "outputs": [],
   "source": [
    "## need to encode categorical features to work with SMOTE\n",
    "from sklearn.preprocessing import StandardScaler, OneHotEncoder\n",
    "from imblearn.over_sampling import SMOTE\n",
    "\n",
    "# imblearn pipeline\n",
    "from imblearn.pipeline import Pipeline as im_Pipeline"
   ]
  },
  {
   "cell_type": "code",
   "execution_count": 26,
   "metadata": {},
   "outputs": [],
   "source": [
    "# Reduce model leakage by re-defining input and target features\n",
    "X = df.drop(columns=['revenue'])\n",
    "y = df.revenue\n",
    "\n",
    "# split input/target into train/test splits\n",
    "X_train, X_test, y_train, y_test = train_test_split(X, y, test_size=0.3, random_state=1424)"
   ]
  },
  {
   "cell_type": "code",
   "execution_count": 27,
   "metadata": {},
   "outputs": [
    {
     "data": {
      "text/plain": [
       "0    7294\n",
       "1    1337\n",
       "Name: revenue, dtype: int64"
      ]
     },
     "execution_count": 27,
     "metadata": {},
     "output_type": "execute_result"
    }
   ],
   "source": [
    "y_train.value_counts()"
   ]
  },
  {
   "cell_type": "code",
   "execution_count": 28,
   "metadata": {},
   "outputs": [],
   "source": [
    "# create numeric pre-processing step\n",
    "numeric_transformer = Pipeline(steps=[\n",
    "                                ('scaler', StandardScaler())\n",
    "                                    ])\n",
    "    \n",
    "# create One Hot Encoder step for categorical \n",
    "categorical_transformer = Pipeline(steps=[\n",
    "                                ('onehot', OneHotEncoder(handle_unknown='ignore'))\n",
    "                                        ])"
   ]
  },
  {
   "cell_type": "code",
   "execution_count": 29,
   "metadata": {},
   "outputs": [],
   "source": [
    "# select all numeric features except for target column\n",
    "numeric_features = df.select_dtypes(include=['number']).drop(columns='revenue').columns\n",
    "\n",
    "# Select all categorical features\n",
    "categorical_features = df.select_dtypes(include=['category']).columns\n",
    "\n",
    "# create pre-processor pipeline containing numeric and categorical transformers\n",
    "preprocessor = ColumnTransformer(\n",
    "    transformers=[\n",
    "        ('num', numeric_transformer, numeric_features),\n",
    "        ('cat', categorical_transformer, categorical_features)\n",
    "                ])"
   ]
  },
  {
   "cell_type": "code",
   "execution_count": 30,
   "metadata": {},
   "outputs": [],
   "source": [
    "from imblearn.over_sampling import SVMSMOTE\n",
    "from imblearn.under_sampling import RandomUnderSampler, NeighbourhoodCleaningRule"
   ]
  },
  {
   "cell_type": "code",
   "execution_count": 52,
   "metadata": {},
   "outputs": [
    {
     "name": "stdout",
     "output_type": "stream",
     "text": [
      "              precision    recall  f1-score   support\n",
      "\n",
      "           0       0.93      0.95      0.94      3128\n",
      "           1       0.70      0.62      0.66       571\n",
      "\n",
      "    accuracy                           0.90      3699\n",
      "   macro avg       0.82      0.79      0.80      3699\n",
      "weighted avg       0.90      0.90      0.90      3699\n",
      "\n"
     ]
    }
   ],
   "source": [
    "# instantiate model with pipeline steps\n",
    "rf = im_Pipeline([('preprocessor', preprocessor),\n",
    "                  #('undersample', NeighbourhoodCleaningRule(sampling_strategy='majority', n_jobs=-1)),\n",
    "                  ('SMOTE', SVMSMOTE(random_state=1424, sampling_strategy='minority', m_neighbors=1, n_jobs=-1)),\n",
    "                  ('classifier', RandomForestClassifier(random_state=1424))\n",
    "                    ])\n",
    "\n",
    "# Fit model with pipeline steps to training data\n",
    "rf.fit(X_train, y_train);\n",
    "\n",
    "# Make predictions\n",
    "y_pred = rf.predict(X_test)\n",
    "\n",
    "# get classification report\n",
    "print(classification_report(y_test, y_pred))"
   ]
  },
  {
   "cell_type": "code",
   "execution_count": 53,
   "metadata": {},
   "outputs": [
    {
     "data": {
      "image/png": "[encoded data removed]",
      "text/plain": [
       "<Figure size 432x288 with 2 Axes>"
      ]
     },
     "metadata": {
      "needs_background": "light"
     },
     "output_type": "display_data"
    }
   ],
   "source": [
    "# Create and plot confusion matrix\n",
    "cm = confusion_matrix(y_test, y_pred, labels=rf.classes_)\n",
    "disp = ConfusionMatrixDisplay(confusion_matrix=cm,\n",
    "                              display_labels=rf.classes_)\n",
    "disp.plot();"
   ]
  },
  {
   "cell_type": "markdown",
   "metadata": {},
   "source": [
    "## Classifier Comparison"
   ]
  },
  {
   "cell_type": "code",
   "execution_count": 33,
   "metadata": {},
   "outputs": [],
   "source": [
    "# custom function for model comparison results when using gridsearch to identify high-performing models\n",
    "def model_comp_results(model_input):\n",
    "    # Get results from model comparison\n",
    "    results = pd.DataFrame(model_input.cv_results_, columns=['param_classifier','mean_test_score'])\n",
    "    \n",
    "    # Round results and sort in descending order\n",
    "    results['mean_test_score'] = round(results['mean_test_score'], 3)\n",
    "    results = results.sort_values(by='mean_test_score', ascending=False)\n",
    "    return results"
   ]
  },
  {
   "cell_type": "code",
   "execution_count": 34,
   "metadata": {},
   "outputs": [],
   "source": [
    "# tools\n",
    "from sklearn.pipeline import Pipeline\n",
    "from sklearn import model_selection\n",
    "from sklearn.model_selection import GridSearchCV"
   ]
  },
  {
   "cell_type": "code",
   "execution_count": 35,
   "metadata": {},
   "outputs": [],
   "source": [
    "# Reduce model leakage by re-defining input and target features\n",
    "X = df.drop(columns=['revenue'])\n",
    "y = df.revenue\n",
    "\n",
    "# split input/target into train/test splits\n",
    "X_train, X_test, y_train, y_test = train_test_split(X, y, test_size=0.3, random_state=1424)"
   ]
  },
  {
   "cell_type": "code",
   "execution_count": 36,
   "metadata": {},
   "outputs": [],
   "source": [
    "from sklearn.ensemble import AdaBoostClassifier, BaggingClassifier, ExtraTreesClassifier, GradientBoostingClassifier, RandomForestClassifier, StackingClassifier, VotingClassifier, HistGradientBoostingClassifier\n",
    "from sklearn.naive_bayes import BernoulliNB, CategoricalNB,  ComplementNB, GaussianNB, MultinomialNB\n",
    "from sklearn.calibration import CalibratedClassifierCV\n",
    "from sklearn.tree import DecisionTreeClassifier, ExtraTreeClassifier\n",
    "from sklearn.gaussian_process import GaussianProcessClassifier\n",
    "from sklearn.neighbors import KNeighborsClassifier, NearestCentroid, RadiusNeighborsClassifier\n",
    "from sklearn.neural_network import MLPClassifier\n",
    "from sklearn.svm import LinearSVC, NuSVC, SVC\n",
    "from sklearn.linear_model import LogisticRegression, LogisticRegressionCV, PassiveAggressiveClassifier, Perceptron, RidgeClassifier, RidgeClassifierCV, SGDClassifier, SGDOneClassSVM"
   ]
  },
  {
   "cell_type": "code",
   "execution_count": 37,
   "metadata": {},
   "outputs": [],
   "source": [
    "# Gridsearch setup\n",
    "\n",
    "# instantiate model with pipeline steps\n",
    "model_holder = Pipeline([('preprocessor', preprocessor), # defined previously\n",
    "                        ('classifier', RandomForestClassifier(random_state=1424))\n",
    "                        ])\n",
    "\n",
    "model_search = [{'classifier': [AdaBoostClassifier()]},\n",
    "                {'classifier': [BaggingClassifier()]},\n",
    "                {'classifier': [ExtraTreesClassifier()]},\n",
    "                {'classifier': [GradientBoostingClassifier()]},\n",
    "                {'classifier': [RandomForestClassifier()]},\n",
    "                {'classifier': [HistGradientBoostingClassifier()]},\n",
    "                {'classifier': [BernoulliNB()]},\n",
    "                {'classifier': [CategoricalNB()]},\n",
    "                {'classifier': [ComplementNB()]},\n",
    "                {'classifier': [GaussianNB()]},\n",
    "                {'classifier': [MultinomialNB()]},\n",
    "                {'classifier': [CalibratedClassifierCV()]},\n",
    "                {'classifier': [DecisionTreeClassifier()]},\n",
    "                {'classifier': [ExtraTreeClassifier()]},\n",
    "                {'classifier': [GaussianProcessClassifier()]},\n",
    "                {'classifier': [KNeighborsClassifier()]},\n",
    "                {'classifier': [MLPClassifier()]},\n",
    "                {'classifier': [LinearSVC()]},\n",
    "                {'classifier': [NuSVC()]},\n",
    "                {'classifier': [SVC()]},\n",
    "                {'classifier': [LogisticRegression()]},\n",
    "                {'classifier': [LogisticRegressionCV()]},\n",
    "                {'classifier': [PassiveAggressiveClassifier()]},\n",
    "                {'classifier': [Perceptron()]},\n",
    "                {'classifier': [RidgeClassifier()]},\n",
    "                {'classifier': [RidgeClassifierCV()]},\n",
    "                {'classifier': [SGDClassifier()]},\n",
    "                {'classifier': [SGDOneClassSVM()]}\n",
    "                ]"
   ]
  },
  {
   "cell_type": "code",
   "execution_count": 38,
   "metadata": {},
   "outputs": [
    {
     "name": "stderr",
     "output_type": "stream",
     "text": [
      "d:\\Data_Science\\Environments_Software\\Languages\\Python\\Miniconda3\\envs\\ds_core\\lib\\site-packages\\sklearn\\model_selection\\_validation.py:378: FitFailedWarning: \n",
      "70 fits failed out of a total of 280.\n",
      "The score on these train-test partitions for these parameters will be set to nan.\n",
      "If these failures are not expected, you can try to debug them by setting error_score='raise'.\n",
      "\n",
      "Below are more details about the failures:\n",
      "--------------------------------------------------------------------------------\n",
      "10 fits failed with the following error:\n",
      "Traceback (most recent call last):\n",
      "  File \"d:\\Data_Science\\Environments_Software\\Languages\\Python\\Miniconda3\\envs\\ds_core\\lib\\site-packages\\sklearn\\model_selection\\_validation.py\", line 686, in _fit_and_score\n",
      "    estimator.fit(X_train, y_train, **fit_params)\n",
      "  File \"d:\\Data_Science\\Environments_Software\\Languages\\Python\\Miniconda3\\envs\\ds_core\\lib\\site-packages\\sklearn\\pipeline.py\", line 382, in fit\n",
      "    self._final_estimator.fit(Xt, y, **fit_params_last_step)\n",
      "  File \"d:\\Data_Science\\Environments_Software\\Languages\\Python\\Miniconda3\\envs\\ds_core\\lib\\site-packages\\sklearn\\ensemble\\_hist_gradient_boosting\\gradient_boosting.py\", line 287, in fit\n",
      "    X, y = self._validate_data(X, y, dtype=[X_DTYPE], force_all_finite=False)\n",
      "  File \"d:\\Data_Science\\Environments_Software\\Languages\\Python\\Miniconda3\\envs\\ds_core\\lib\\site-packages\\sklearn\\base.py\", line 596, in _validate_data\n",
      "    X, y = check_X_y(X, y, **check_params)\n",
      "  File \"d:\\Data_Science\\Environments_Software\\Languages\\Python\\Miniconda3\\envs\\ds_core\\lib\\site-packages\\sklearn\\utils\\validation.py\", line 1074, in check_X_y\n",
      "    X = check_array(\n",
      "  File \"d:\\Data_Science\\Environments_Software\\Languages\\Python\\Miniconda3\\envs\\ds_core\\lib\\site-packages\\sklearn\\utils\\validation.py\", line 822, in check_array\n",
      "    array = _ensure_sparse_format(\n",
      "  File \"d:\\Data_Science\\Environments_Software\\Languages\\Python\\Miniconda3\\envs\\ds_core\\lib\\site-packages\\sklearn\\utils\\validation.py\", line 512, in _ensure_sparse_format\n",
      "    raise TypeError(\n",
      "TypeError: A sparse matrix was passed, but dense data is required. Use X.toarray() to convert to a dense numpy array.\n",
      "\n",
      "--------------------------------------------------------------------------------\n",
      "10 fits failed with the following error:\n",
      "Traceback (most recent call last):\n",
      "  File \"d:\\Data_Science\\Environments_Software\\Languages\\Python\\Miniconda3\\envs\\ds_core\\lib\\site-packages\\sklearn\\model_selection\\_validation.py\", line 686, in _fit_and_score\n",
      "    estimator.fit(X_train, y_train, **fit_params)\n",
      "  File \"d:\\Data_Science\\Environments_Software\\Languages\\Python\\Miniconda3\\envs\\ds_core\\lib\\site-packages\\sklearn\\pipeline.py\", line 382, in fit\n",
      "    self._final_estimator.fit(Xt, y, **fit_params_last_step)\n",
      "  File \"d:\\Data_Science\\Environments_Software\\Languages\\Python\\Miniconda3\\envs\\ds_core\\lib\\site-packages\\sklearn\\naive_bayes.py\", line 1290, in fit\n",
      "    return super().fit(X, y, sample_weight=sample_weight)\n",
      "  File \"d:\\Data_Science\\Environments_Software\\Languages\\Python\\Miniconda3\\envs\\ds_core\\lib\\site-packages\\sklearn\\naive_bayes.py\", line 699, in fit\n",
      "    X, y = self._check_X_y(X, y)\n",
      "  File \"d:\\Data_Science\\Environments_Software\\Languages\\Python\\Miniconda3\\envs\\ds_core\\lib\\site-packages\\sklearn\\naive_bayes.py\", line 1348, in _check_X_y\n",
      "    X, y = self._validate_data(\n",
      "  File \"d:\\Data_Science\\Environments_Software\\Languages\\Python\\Miniconda3\\envs\\ds_core\\lib\\site-packages\\sklearn\\base.py\", line 596, in _validate_data\n",
      "    X, y = check_X_y(X, y, **check_params)\n",
      "  File \"d:\\Data_Science\\Environments_Software\\Languages\\Python\\Miniconda3\\envs\\ds_core\\lib\\site-packages\\sklearn\\utils\\validation.py\", line 1074, in check_X_y\n",
      "    X = check_array(\n",
      "  File \"d:\\Data_Science\\Environments_Software\\Languages\\Python\\Miniconda3\\envs\\ds_core\\lib\\site-packages\\sklearn\\utils\\validation.py\", line 822, in check_array\n",
      "    array = _ensure_sparse_format(\n",
      "  File \"d:\\Data_Science\\Environments_Software\\Languages\\Python\\Miniconda3\\envs\\ds_core\\lib\\site-packages\\sklearn\\utils\\validation.py\", line 512, in _ensure_sparse_format\n",
      "    raise TypeError(\n",
      "TypeError: A sparse matrix was passed, but dense data is required. Use X.toarray() to convert to a dense numpy array.\n",
      "\n",
      "--------------------------------------------------------------------------------\n",
      "10 fits failed with the following error:\n",
      "Traceback (most recent call last):\n",
      "  File \"d:\\Data_Science\\Environments_Software\\Languages\\Python\\Miniconda3\\envs\\ds_core\\lib\\site-packages\\sklearn\\model_selection\\_validation.py\", line 686, in _fit_and_score\n",
      "    estimator.fit(X_train, y_train, **fit_params)\n",
      "  File \"d:\\Data_Science\\Environments_Software\\Languages\\Python\\Miniconda3\\envs\\ds_core\\lib\\site-packages\\sklearn\\pipeline.py\", line 382, in fit\n",
      "    self._final_estimator.fit(Xt, y, **fit_params_last_step)\n",
      "  File \"d:\\Data_Science\\Environments_Software\\Languages\\Python\\Miniconda3\\envs\\ds_core\\lib\\site-packages\\sklearn\\naive_bayes.py\", line 726, in fit\n",
      "    self._count(X, Y)\n",
      "  File \"d:\\Data_Science\\Environments_Software\\Languages\\Python\\Miniconda3\\envs\\ds_core\\lib\\site-packages\\sklearn\\naive_bayes.py\", line 978, in _count\n",
      "    check_non_negative(X, \"ComplementNB (input X)\")\n",
      "  File \"d:\\Data_Science\\Environments_Software\\Languages\\Python\\Miniconda3\\envs\\ds_core\\lib\\site-packages\\sklearn\\utils\\validation.py\", line 1372, in check_non_negative\n",
      "    raise ValueError(\"Negative values in data passed to %s\" % whom)\n",
      "ValueError: Negative values in data passed to ComplementNB (input X)\n",
      "\n",
      "--------------------------------------------------------------------------------\n",
      "10 fits failed with the following error:\n",
      "Traceback (most recent call last):\n",
      "  File \"d:\\Data_Science\\Environments_Software\\Languages\\Python\\Miniconda3\\envs\\ds_core\\lib\\site-packages\\sklearn\\model_selection\\_validation.py\", line 686, in _fit_and_score\n",
      "    estimator.fit(X_train, y_train, **fit_params)\n",
      "  File \"d:\\Data_Science\\Environments_Software\\Languages\\Python\\Miniconda3\\envs\\ds_core\\lib\\site-packages\\sklearn\\pipeline.py\", line 382, in fit\n",
      "    self._final_estimator.fit(Xt, y, **fit_params_last_step)\n",
      "  File \"d:\\Data_Science\\Environments_Software\\Languages\\Python\\Miniconda3\\envs\\ds_core\\lib\\site-packages\\sklearn\\naive_bayes.py\", line 243, in fit\n",
      "    return self._partial_fit(\n",
      "  File \"d:\\Data_Science\\Environments_Software\\Languages\\Python\\Miniconda3\\envs\\ds_core\\lib\\site-packages\\sklearn\\naive_bayes.py\", line 400, in _partial_fit\n",
      "    X, y = self._validate_data(X, y, reset=first_call)\n",
      "  File \"d:\\Data_Science\\Environments_Software\\Languages\\Python\\Miniconda3\\envs\\ds_core\\lib\\site-packages\\sklearn\\base.py\", line 596, in _validate_data\n",
      "    X, y = check_X_y(X, y, **check_params)\n",
      "  File \"d:\\Data_Science\\Environments_Software\\Languages\\Python\\Miniconda3\\envs\\ds_core\\lib\\site-packages\\sklearn\\utils\\validation.py\", line 1074, in check_X_y\n",
      "    X = check_array(\n",
      "  File \"d:\\Data_Science\\Environments_Software\\Languages\\Python\\Miniconda3\\envs\\ds_core\\lib\\site-packages\\sklearn\\utils\\validation.py\", line 822, in check_array\n",
      "    array = _ensure_sparse_format(\n",
      "  File \"d:\\Data_Science\\Environments_Software\\Languages\\Python\\Miniconda3\\envs\\ds_core\\lib\\site-packages\\sklearn\\utils\\validation.py\", line 512, in _ensure_sparse_format\n",
      "    raise TypeError(\n",
      "TypeError: A sparse matrix was passed, but dense data is required. Use X.toarray() to convert to a dense numpy array.\n",
      "\n",
      "--------------------------------------------------------------------------------\n",
      "10 fits failed with the following error:\n",
      "Traceback (most recent call last):\n",
      "  File \"d:\\Data_Science\\Environments_Software\\Languages\\Python\\Miniconda3\\envs\\ds_core\\lib\\site-packages\\sklearn\\model_selection\\_validation.py\", line 686, in _fit_and_score\n",
      "    estimator.fit(X_train, y_train, **fit_params)\n",
      "  File \"d:\\Data_Science\\Environments_Software\\Languages\\Python\\Miniconda3\\envs\\ds_core\\lib\\site-packages\\sklearn\\pipeline.py\", line 382, in fit\n",
      "    self._final_estimator.fit(Xt, y, **fit_params_last_step)\n",
      "  File \"d:\\Data_Science\\Environments_Software\\Languages\\Python\\Miniconda3\\envs\\ds_core\\lib\\site-packages\\sklearn\\naive_bayes.py\", line 726, in fit\n",
      "    self._count(X, Y)\n",
      "  File \"d:\\Data_Science\\Environments_Software\\Languages\\Python\\Miniconda3\\envs\\ds_core\\lib\\site-packages\\sklearn\\naive_bayes.py\", line 851, in _count\n",
      "    check_non_negative(X, \"MultinomialNB (input X)\")\n",
      "  File \"d:\\Data_Science\\Environments_Software\\Languages\\Python\\Miniconda3\\envs\\ds_core\\lib\\site-packages\\sklearn\\utils\\validation.py\", line 1372, in check_non_negative\n",
      "    raise ValueError(\"Negative values in data passed to %s\" % whom)\n",
      "ValueError: Negative values in data passed to MultinomialNB (input X)\n",
      "\n",
      "--------------------------------------------------------------------------------\n",
      "10 fits failed with the following error:\n",
      "Traceback (most recent call last):\n",
      "  File \"d:\\Data_Science\\Environments_Software\\Languages\\Python\\Miniconda3\\envs\\ds_core\\lib\\site-packages\\sklearn\\model_selection\\_validation.py\", line 686, in _fit_and_score\n",
      "    estimator.fit(X_train, y_train, **fit_params)\n",
      "  File \"d:\\Data_Science\\Environments_Software\\Languages\\Python\\Miniconda3\\envs\\ds_core\\lib\\site-packages\\sklearn\\pipeline.py\", line 382, in fit\n",
      "    self._final_estimator.fit(Xt, y, **fit_params_last_step)\n",
      "  File \"d:\\Data_Science\\Environments_Software\\Languages\\Python\\Miniconda3\\envs\\ds_core\\lib\\site-packages\\sklearn\\gaussian_process\\_gpc.py\", line 681, in fit\n",
      "    X, y = self._validate_data(\n",
      "  File \"d:\\Data_Science\\Environments_Software\\Languages\\Python\\Miniconda3\\envs\\ds_core\\lib\\site-packages\\sklearn\\base.py\", line 596, in _validate_data\n",
      "    X, y = check_X_y(X, y, **check_params)\n",
      "  File \"d:\\Data_Science\\Environments_Software\\Languages\\Python\\Miniconda3\\envs\\ds_core\\lib\\site-packages\\sklearn\\utils\\validation.py\", line 1074, in check_X_y\n",
      "    X = check_array(\n",
      "  File \"d:\\Data_Science\\Environments_Software\\Languages\\Python\\Miniconda3\\envs\\ds_core\\lib\\site-packages\\sklearn\\utils\\validation.py\", line 822, in check_array\n",
      "    array = _ensure_sparse_format(\n",
      "  File \"d:\\Data_Science\\Environments_Software\\Languages\\Python\\Miniconda3\\envs\\ds_core\\lib\\site-packages\\sklearn\\utils\\validation.py\", line 512, in _ensure_sparse_format\n",
      "    raise TypeError(\n",
      "TypeError: A sparse matrix was passed, but dense data is required. Use X.toarray() to convert to a dense numpy array.\n",
      "\n",
      "--------------------------------------------------------------------------------\n",
      "10 fits failed with the following error:\n",
      "Traceback (most recent call last):\n",
      "  File \"d:\\Data_Science\\Environments_Software\\Languages\\Python\\Miniconda3\\envs\\ds_core\\lib\\site-packages\\sklearn\\model_selection\\_validation.py\", line 686, in _fit_and_score\n",
      "    estimator.fit(X_train, y_train, **fit_params)\n",
      "  File \"d:\\Data_Science\\Environments_Software\\Languages\\Python\\Miniconda3\\envs\\ds_core\\lib\\site-packages\\sklearn\\pipeline.py\", line 382, in fit\n",
      "    self._final_estimator.fit(Xt, y, **fit_params_last_step)\n",
      "  File \"d:\\Data_Science\\Environments_Software\\Languages\\Python\\Miniconda3\\envs\\ds_core\\lib\\site-packages\\sklearn\\svm\\_base.py\", line 251, in fit\n",
      "    fit(X, y, sample_weight, solver_type, kernel, random_seed=seed)\n",
      "  File \"d:\\Data_Science\\Environments_Software\\Languages\\Python\\Miniconda3\\envs\\ds_core\\lib\\site-packages\\sklearn\\svm\\_base.py\", line 374, in _sparse_fit\n",
      "    ) = libsvm_sparse.libsvm_sparse_train(\n",
      "  File \"sklearn\\svm\\_libsvm_sparse.pyx\", line 152, in sklearn.svm._libsvm_sparse.libsvm_sparse_train\n",
      "ValueError: b'specified nu is infeasible'\n",
      "\n",
      "  warnings.warn(some_fits_failed_message, FitFailedWarning)\n",
      "d:\\Data_Science\\Environments_Software\\Languages\\Python\\Miniconda3\\envs\\ds_core\\lib\\site-packages\\sklearn\\model_selection\\_search.py:953: UserWarning: One or more of the test scores are non-finite: [0.91157124 0.89678328 0.89188195 0.92947842 0.92135528        nan\n",
      " 0.85825114        nan        nan        nan        nan 0.89852636\n",
      " 0.74273499 0.63679109        nan 0.78847661 0.88751685 0.89843605\n",
      "        nan 0.88369328 0.89079401 0.89049061 0.8077308  0.71213123\n",
      " 0.89564606 0.89661325 0.83723322 0.55141106]\n",
      "  warnings.warn(\n"
     ]
    }
   ],
   "source": [
    "# setup stratified k-folds for gridsearch\n",
    "kfold = model_selection.StratifiedKFold(n_splits=10, random_state=79, shuffle=True)\n",
    "\n",
    "# configure gridsearch parameters\n",
    "model_compare = GridSearchCV(model_holder, model_search, cv=kfold, n_jobs=-1, scoring='roc_auc')\n",
    "\n",
    "# Fit comparison model on training data\n",
    "model_compare = model_compare.fit(X_train, y_train)"
   ]
  },
  {
   "cell_type": "code",
   "execution_count": 39,
   "metadata": {},
   "outputs": [
    {
     "data": {
      "text/html": [
       "<div>\n",
       "<style scoped>\n",
       "    .dataframe tbody tr th:only-of-type {\n",
       "        vertical-align: middle;\n",
       "    }\n",
       "\n",
       "    .dataframe tbody tr th {\n",
       "        vertical-align: top;\n",
       "    }\n",
       "\n",
       "    .dataframe thead th {\n",
       "        text-align: right;\n",
       "    }\n",
       "</style>\n",
       "<table border=\"1\" class=\"dataframe\">\n",
       "  <thead>\n",
       "    <tr style=\"text-align: right;\">\n",
       "      <th></th>\n",
       "      <th>param_classifier</th>\n",
       "      <th>mean_test_score</th>\n",
       "    </tr>\n",
       "  </thead>\n",
       "  <tbody>\n",
       "    <tr>\n",
       "      <th>3</th>\n",
       "      <td>GradientBoostingClassifier()</td>\n",
       "      <td>0.929</td>\n",
       "    </tr>\n",
       "    <tr>\n",
       "      <th>4</th>\n",
       "      <td>RandomForestClassifier()</td>\n",
       "      <td>0.921</td>\n",
       "    </tr>\n",
       "    <tr>\n",
       "      <th>0</th>\n",
       "      <td>AdaBoostClassifier()</td>\n",
       "      <td>0.912</td>\n",
       "    </tr>\n",
       "    <tr>\n",
       "      <th>11</th>\n",
       "      <td>CalibratedClassifierCV()</td>\n",
       "      <td>0.899</td>\n",
       "    </tr>\n",
       "    <tr>\n",
       "      <th>17</th>\n",
       "      <td>LinearSVC()</td>\n",
       "      <td>0.898</td>\n",
       "    </tr>\n",
       "    <tr>\n",
       "      <th>25</th>\n",
       "      <td>RidgeClassifierCV()</td>\n",
       "      <td>0.897</td>\n",
       "    </tr>\n",
       "    <tr>\n",
       "      <th>1</th>\n",
       "      <td>BaggingClassifier()</td>\n",
       "      <td>0.897</td>\n",
       "    </tr>\n",
       "    <tr>\n",
       "      <th>24</th>\n",
       "      <td>RidgeClassifier()</td>\n",
       "      <td>0.896</td>\n",
       "    </tr>\n",
       "    <tr>\n",
       "      <th>2</th>\n",
       "      <td>ExtraTreesClassifier()</td>\n",
       "      <td>0.892</td>\n",
       "    </tr>\n",
       "    <tr>\n",
       "      <th>20</th>\n",
       "      <td>LogisticRegression()</td>\n",
       "      <td>0.891</td>\n",
       "    </tr>\n",
       "    <tr>\n",
       "      <th>21</th>\n",
       "      <td>LogisticRegressionCV()</td>\n",
       "      <td>0.890</td>\n",
       "    </tr>\n",
       "    <tr>\n",
       "      <th>16</th>\n",
       "      <td>MLPClassifier()</td>\n",
       "      <td>0.888</td>\n",
       "    </tr>\n",
       "    <tr>\n",
       "      <th>19</th>\n",
       "      <td>SVC()</td>\n",
       "      <td>0.884</td>\n",
       "    </tr>\n",
       "    <tr>\n",
       "      <th>6</th>\n",
       "      <td>BernoulliNB()</td>\n",
       "      <td>0.858</td>\n",
       "    </tr>\n",
       "    <tr>\n",
       "      <th>26</th>\n",
       "      <td>SGDClassifier()</td>\n",
       "      <td>0.837</td>\n",
       "    </tr>\n",
       "    <tr>\n",
       "      <th>22</th>\n",
       "      <td>PassiveAggressiveClassifier()</td>\n",
       "      <td>0.808</td>\n",
       "    </tr>\n",
       "    <tr>\n",
       "      <th>15</th>\n",
       "      <td>KNeighborsClassifier()</td>\n",
       "      <td>0.788</td>\n",
       "    </tr>\n",
       "    <tr>\n",
       "      <th>12</th>\n",
       "      <td>DecisionTreeClassifier()</td>\n",
       "      <td>0.743</td>\n",
       "    </tr>\n",
       "    <tr>\n",
       "      <th>23</th>\n",
       "      <td>Perceptron()</td>\n",
       "      <td>0.712</td>\n",
       "    </tr>\n",
       "    <tr>\n",
       "      <th>13</th>\n",
       "      <td>ExtraTreeClassifier()</td>\n",
       "      <td>0.637</td>\n",
       "    </tr>\n",
       "    <tr>\n",
       "      <th>27</th>\n",
       "      <td>SGDOneClassSVM()</td>\n",
       "      <td>0.551</td>\n",
       "    </tr>\n",
       "    <tr>\n",
       "      <th>5</th>\n",
       "      <td>HistGradientBoostingClassifier()</td>\n",
       "      <td>NaN</td>\n",
       "    </tr>\n",
       "    <tr>\n",
       "      <th>7</th>\n",
       "      <td>CategoricalNB()</td>\n",
       "      <td>NaN</td>\n",
       "    </tr>\n",
       "    <tr>\n",
       "      <th>8</th>\n",
       "      <td>ComplementNB()</td>\n",
       "      <td>NaN</td>\n",
       "    </tr>\n",
       "    <tr>\n",
       "      <th>9</th>\n",
       "      <td>GaussianNB()</td>\n",
       "      <td>NaN</td>\n",
       "    </tr>\n",
       "    <tr>\n",
       "      <th>10</th>\n",
       "      <td>MultinomialNB()</td>\n",
       "      <td>NaN</td>\n",
       "    </tr>\n",
       "    <tr>\n",
       "      <th>14</th>\n",
       "      <td>GaussianProcessClassifier()</td>\n",
       "      <td>NaN</td>\n",
       "    </tr>\n",
       "    <tr>\n",
       "      <th>18</th>\n",
       "      <td>NuSVC()</td>\n",
       "      <td>NaN</td>\n",
       "    </tr>\n",
       "  </tbody>\n",
       "</table>\n",
       "</div>"
      ],
      "text/plain": [
       "                    param_classifier  mean_test_score\n",
       "3       GradientBoostingClassifier()            0.929\n",
       "4           RandomForestClassifier()            0.921\n",
       "0               AdaBoostClassifier()            0.912\n",
       "11          CalibratedClassifierCV()            0.899\n",
       "17                       LinearSVC()            0.898\n",
       "25               RidgeClassifierCV()            0.897\n",
       "1                BaggingClassifier()            0.897\n",
       "24                 RidgeClassifier()            0.896\n",
       "2             ExtraTreesClassifier()            0.892\n",
       "20              LogisticRegression()            0.891\n",
       "21            LogisticRegressionCV()            0.890\n",
       "16                   MLPClassifier()            0.888\n",
       "19                             SVC()            0.884\n",
       "6                      BernoulliNB()            0.858\n",
       "26                   SGDClassifier()            0.837\n",
       "22     PassiveAggressiveClassifier()            0.808\n",
       "15            KNeighborsClassifier()            0.788\n",
       "12          DecisionTreeClassifier()            0.743\n",
       "23                      Perceptron()            0.712\n",
       "13             ExtraTreeClassifier()            0.637\n",
       "27                  SGDOneClassSVM()            0.551\n",
       "5   HistGradientBoostingClassifier()              NaN\n",
       "7                    CategoricalNB()              NaN\n",
       "8                     ComplementNB()              NaN\n",
       "9                       GaussianNB()              NaN\n",
       "10                   MultinomialNB()              NaN\n",
       "14       GaussianProcessClassifier()              NaN\n",
       "18                           NuSVC()              NaN"
      ]
     },
     "execution_count": 39,
     "metadata": {},
     "output_type": "execute_result"
    }
   ],
   "source": [
    "model_comp_results(model_compare)"
   ]
  },
  {
   "cell_type": "code",
   "execution_count": 40,
   "metadata": {},
   "outputs": [],
   "source": [
    "# Get all classification models\n",
    "from sklearn.utils import all_estimators\n",
    "\n",
    "# create object holding all classifiers\n",
    "estimators = all_estimators(type_filter='classifier')\n",
    "\n",
    "# split object into pieces\n",
    "classifier = [tup[0] for tup in estimators]\n",
    "class_type = [tup[1] for tup in estimators]\n",
    "\n",
    "# create dataframe with 2 columns from pieces\n",
    "classification_models = pd.DataFrame(data=zip(classifier, class_type))\n",
    "\n",
    "# rename dataframe coluns\n",
    "classification_models = classification_models.rename(columns={0:'classifier', 1:'metadata'})\n",
    "\n",
    "# force to string to enable str.split\n",
    "classification_models.metadata = classification_models.metadata.astype('string')\n",
    "\n",
    "# split on '.' and extract only index [1]\n",
    "classification_models['family'] = classification_models['metadata'].str.split('.', expand=True)[1]"
   ]
  },
  {
   "cell_type": "code",
   "execution_count": 41,
   "metadata": {},
   "outputs": [
    {
     "data": {
      "text/html": [
       "<div>\n",
       "<style scoped>\n",
       "    .dataframe tbody tr th:only-of-type {\n",
       "        vertical-align: middle;\n",
       "    }\n",
       "\n",
       "    .dataframe tbody tr th {\n",
       "        vertical-align: top;\n",
       "    }\n",
       "\n",
       "    .dataframe thead th {\n",
       "        text-align: right;\n",
       "    }\n",
       "</style>\n",
       "<table border=\"1\" class=\"dataframe\">\n",
       "  <thead>\n",
       "    <tr style=\"text-align: right;\">\n",
       "      <th></th>\n",
       "      <th>family</th>\n",
       "      <th>classifier</th>\n",
       "    </tr>\n",
       "  </thead>\n",
       "  <tbody>\n",
       "    <tr>\n",
       "      <th>3</th>\n",
       "      <td>calibration</td>\n",
       "      <td>CalibratedClassifierCV</td>\n",
       "    </tr>\n",
       "    <tr>\n",
       "      <th>32</th>\n",
       "      <td>discriminant_analysis</td>\n",
       "      <td>QuadraticDiscriminantAnalysis</td>\n",
       "    </tr>\n",
       "    <tr>\n",
       "      <th>18</th>\n",
       "      <td>discriminant_analysis</td>\n",
       "      <td>LinearDiscriminantAnalysis</td>\n",
       "    </tr>\n",
       "    <tr>\n",
       "      <th>8</th>\n",
       "      <td>dummy</td>\n",
       "      <td>DummyClassifier</td>\n",
       "    </tr>\n",
       "    <tr>\n",
       "      <th>0</th>\n",
       "      <td>ensemble</td>\n",
       "      <td>AdaBoostClassifier</td>\n",
       "    </tr>\n",
       "    <tr>\n",
       "      <th>34</th>\n",
       "      <td>ensemble</td>\n",
       "      <td>RandomForestClassifier</td>\n",
       "    </tr>\n",
       "    <tr>\n",
       "      <th>39</th>\n",
       "      <td>ensemble</td>\n",
       "      <td>StackingClassifier</td>\n",
       "    </tr>\n",
       "    <tr>\n",
       "      <th>14</th>\n",
       "      <td>ensemble</td>\n",
       "      <td>HistGradientBoostingClassifier</td>\n",
       "    </tr>\n",
       "    <tr>\n",
       "      <th>13</th>\n",
       "      <td>ensemble</td>\n",
       "      <td>GradientBoostingClassifier</td>\n",
       "    </tr>\n",
       "    <tr>\n",
       "      <th>10</th>\n",
       "      <td>ensemble</td>\n",
       "      <td>ExtraTreesClassifier</td>\n",
       "    </tr>\n",
       "    <tr>\n",
       "      <th>40</th>\n",
       "      <td>ensemble</td>\n",
       "      <td>VotingClassifier</td>\n",
       "    </tr>\n",
       "    <tr>\n",
       "      <th>1</th>\n",
       "      <td>ensemble</td>\n",
       "      <td>BaggingClassifier</td>\n",
       "    </tr>\n",
       "    <tr>\n",
       "      <th>12</th>\n",
       "      <td>gaussian_process</td>\n",
       "      <td>GaussianProcessClassifier</td>\n",
       "    </tr>\n",
       "    <tr>\n",
       "      <th>20</th>\n",
       "      <td>linear_model</td>\n",
       "      <td>LogisticRegression</td>\n",
       "    </tr>\n",
       "    <tr>\n",
       "      <th>37</th>\n",
       "      <td>linear_model</td>\n",
       "      <td>SGDClassifier</td>\n",
       "    </tr>\n",
       "    <tr>\n",
       "      <th>36</th>\n",
       "      <td>linear_model</td>\n",
       "      <td>RidgeClassifierCV</td>\n",
       "    </tr>\n",
       "    <tr>\n",
       "      <th>35</th>\n",
       "      <td>linear_model</td>\n",
       "      <td>RidgeClassifier</td>\n",
       "    </tr>\n",
       "    <tr>\n",
       "      <th>31</th>\n",
       "      <td>linear_model</td>\n",
       "      <td>Perceptron</td>\n",
       "    </tr>\n",
       "    <tr>\n",
       "      <th>30</th>\n",
       "      <td>linear_model</td>\n",
       "      <td>PassiveAggressiveClassifier</td>\n",
       "    </tr>\n",
       "    <tr>\n",
       "      <th>21</th>\n",
       "      <td>linear_model</td>\n",
       "      <td>LogisticRegressionCV</td>\n",
       "    </tr>\n",
       "    <tr>\n",
       "      <th>29</th>\n",
       "      <td>multiclass</td>\n",
       "      <td>OutputCodeClassifier</td>\n",
       "    </tr>\n",
       "    <tr>\n",
       "      <th>28</th>\n",
       "      <td>multiclass</td>\n",
       "      <td>OneVsRestClassifier</td>\n",
       "    </tr>\n",
       "    <tr>\n",
       "      <th>27</th>\n",
       "      <td>multiclass</td>\n",
       "      <td>OneVsOneClassifier</td>\n",
       "    </tr>\n",
       "    <tr>\n",
       "      <th>5</th>\n",
       "      <td>multioutput</td>\n",
       "      <td>ClassifierChain</td>\n",
       "    </tr>\n",
       "    <tr>\n",
       "      <th>23</th>\n",
       "      <td>multioutput</td>\n",
       "      <td>MultiOutputClassifier</td>\n",
       "    </tr>\n",
       "    <tr>\n",
       "      <th>2</th>\n",
       "      <td>naive_bayes</td>\n",
       "      <td>BernoulliNB</td>\n",
       "    </tr>\n",
       "    <tr>\n",
       "      <th>11</th>\n",
       "      <td>naive_bayes</td>\n",
       "      <td>GaussianNB</td>\n",
       "    </tr>\n",
       "    <tr>\n",
       "      <th>24</th>\n",
       "      <td>naive_bayes</td>\n",
       "      <td>MultinomialNB</td>\n",
       "    </tr>\n",
       "    <tr>\n",
       "      <th>4</th>\n",
       "      <td>naive_bayes</td>\n",
       "      <td>CategoricalNB</td>\n",
       "    </tr>\n",
       "    <tr>\n",
       "      <th>6</th>\n",
       "      <td>naive_bayes</td>\n",
       "      <td>ComplementNB</td>\n",
       "    </tr>\n",
       "    <tr>\n",
       "      <th>33</th>\n",
       "      <td>neighbors</td>\n",
       "      <td>RadiusNeighborsClassifier</td>\n",
       "    </tr>\n",
       "    <tr>\n",
       "      <th>15</th>\n",
       "      <td>neighbors</td>\n",
       "      <td>KNeighborsClassifier</td>\n",
       "    </tr>\n",
       "    <tr>\n",
       "      <th>25</th>\n",
       "      <td>neighbors</td>\n",
       "      <td>NearestCentroid</td>\n",
       "    </tr>\n",
       "    <tr>\n",
       "      <th>22</th>\n",
       "      <td>neural_network</td>\n",
       "      <td>MLPClassifier</td>\n",
       "    </tr>\n",
       "    <tr>\n",
       "      <th>17</th>\n",
       "      <td>semi_supervised</td>\n",
       "      <td>LabelSpreading</td>\n",
       "    </tr>\n",
       "    <tr>\n",
       "      <th>16</th>\n",
       "      <td>semi_supervised</td>\n",
       "      <td>LabelPropagation</td>\n",
       "    </tr>\n",
       "    <tr>\n",
       "      <th>19</th>\n",
       "      <td>svm</td>\n",
       "      <td>LinearSVC</td>\n",
       "    </tr>\n",
       "    <tr>\n",
       "      <th>38</th>\n",
       "      <td>svm</td>\n",
       "      <td>SVC</td>\n",
       "    </tr>\n",
       "    <tr>\n",
       "      <th>26</th>\n",
       "      <td>svm</td>\n",
       "      <td>NuSVC</td>\n",
       "    </tr>\n",
       "    <tr>\n",
       "      <th>9</th>\n",
       "      <td>tree</td>\n",
       "      <td>ExtraTreeClassifier</td>\n",
       "    </tr>\n",
       "    <tr>\n",
       "      <th>7</th>\n",
       "      <td>tree</td>\n",
       "      <td>DecisionTreeClassifier</td>\n",
       "    </tr>\n",
       "  </tbody>\n",
       "</table>\n",
       "</div>"
      ],
      "text/plain": [
       "                   family                      classifier\n",
       "3             calibration          CalibratedClassifierCV\n",
       "32  discriminant_analysis   QuadraticDiscriminantAnalysis\n",
       "18  discriminant_analysis      LinearDiscriminantAnalysis\n",
       "8                   dummy                 DummyClassifier\n",
       "0                ensemble              AdaBoostClassifier\n",
       "34               ensemble          RandomForestClassifier\n",
       "39               ensemble              StackingClassifier\n",
       "14               ensemble  HistGradientBoostingClassifier\n",
       "13               ensemble      GradientBoostingClassifier\n",
       "10               ensemble            ExtraTreesClassifier\n",
       "40               ensemble                VotingClassifier\n",
       "1                ensemble               BaggingClassifier\n",
       "12       gaussian_process       GaussianProcessClassifier\n",
       "20           linear_model              LogisticRegression\n",
       "37           linear_model                   SGDClassifier\n",
       "36           linear_model               RidgeClassifierCV\n",
       "35           linear_model                 RidgeClassifier\n",
       "31           linear_model                      Perceptron\n",
       "30           linear_model     PassiveAggressiveClassifier\n",
       "21           linear_model            LogisticRegressionCV\n",
       "29             multiclass            OutputCodeClassifier\n",
       "28             multiclass             OneVsRestClassifier\n",
       "27             multiclass              OneVsOneClassifier\n",
       "5             multioutput                 ClassifierChain\n",
       "23            multioutput           MultiOutputClassifier\n",
       "2             naive_bayes                     BernoulliNB\n",
       "11            naive_bayes                      GaussianNB\n",
       "24            naive_bayes                   MultinomialNB\n",
       "4             naive_bayes                   CategoricalNB\n",
       "6             naive_bayes                    ComplementNB\n",
       "33              neighbors       RadiusNeighborsClassifier\n",
       "15              neighbors            KNeighborsClassifier\n",
       "25              neighbors                 NearestCentroid\n",
       "22         neural_network                   MLPClassifier\n",
       "17        semi_supervised                  LabelSpreading\n",
       "16        semi_supervised                LabelPropagation\n",
       "19                    svm                       LinearSVC\n",
       "38                    svm                             SVC\n",
       "26                    svm                           NuSVC\n",
       "9                    tree             ExtraTreeClassifier\n",
       "7                    tree          DecisionTreeClassifier"
      ]
     },
     "execution_count": 41,
     "metadata": {},
     "output_type": "execute_result"
    }
   ],
   "source": [
    "# select sklearn family and classifier\n",
    "classification_models[['family','classifier']].sort_values(by='family')"
   ]
  }
 ],
 "metadata": {
  "kernelspec": {
   "display_name": "Python 3.9.13 ('ds_core')",
   "language": "python",
   "name": "python3"
  },
  "language_info": {
   "codemirror_mode": {
    "name": "ipython",
    "version": 3
   },
   "file_extension": ".py",
   "mimetype": "text/x-python",
   "name": "python",
   "nbconvert_exporter": "python",
   "pygments_lexer": "ipython3",
   "version": "3.9.13"
  },
  "orig_nbformat": 4,
  "vscode": {
   "interpreter": {
    "hash": "2ea3291a4229870f46f60e13eaa35a1f9d86ee5a4de0dfc751ed6213d3178964"
   }
  }
 },
 "nbformat": 4,
 "nbformat_minor": 2
}
